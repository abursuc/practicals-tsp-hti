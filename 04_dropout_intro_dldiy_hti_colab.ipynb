{
  "nbformat": 4,
  "nbformat_minor": 0,
  "metadata": {
    "colab": {
      "name": "04_dropout_intro_dldiy_hti_colab.ipynb",
      "provenance": [],
      "include_colab_link": true
    },
    "kernelspec": {
      "display_name": "Python 3",
      "language": "python",
      "name": "python3"
    }
  },
  "cells": [
    {
      "cell_type": "markdown",
      "metadata": {
        "id": "view-in-github",
        "colab_type": "text"
      },
      "source": [
        "<a href=\"https://colab.research.google.com/github/abursuc/practicals_hti_2019/blob/master/04_dropout_intro_dldiy_hti_colab.ipynb\" target=\"_parent\"><img src=\"https://colab.research.google.com/assets/colab-badge.svg\" alt=\"Open In Colab\"/></a>"
      ]
    },
    {
      "cell_type": "markdown",
      "metadata": {
        "id": "H-pGQemIx72p",
        "colab_type": "text"
      },
      "source": [
        "# DropOut intuition"
      ]
    },
    {
      "cell_type": "markdown",
      "metadata": {
        "id": "SGSbRZ4JEWWh",
        "colab_type": "text"
      },
      "source": [
        "DropOut is a popular technique for regularizing deep neural networks, in particular the fully-connected layers. \n",
        "We did not cover it in the course, but you can check-out an brief description in the slides: https://abursuc.github.io/slides/2019_hti/dl_hti_5_deeper.html#33"
      ]
    },
    {
      "cell_type": "code",
      "metadata": {
        "id": "UbUz5Ocsx72s",
        "colab_type": "code",
        "colab": {}
      },
      "source": [
        "%matplotlib inline\n",
        "import matplotlib.pyplot as plt\n",
        "import torch"
      ],
      "execution_count": 0,
      "outputs": []
    },
    {
      "cell_type": "markdown",
      "metadata": {
        "id": "D8WXRqxNx72w",
        "colab_type": "text"
      },
      "source": [
        "# 1. Dropout from scratch"
      ]
    },
    {
      "cell_type": "markdown",
      "metadata": {
        "id": "n87efjJpx72x",
        "colab_type": "text"
      },
      "source": [
        "Let's code our own dropout function first."
      ]
    },
    {
      "cell_type": "code",
      "metadata": {
        "id": "b5QmfUlJx72x",
        "colab_type": "code",
        "colab": {}
      },
      "source": [
        "def dropout(X, drop_prob):\n",
        "    assert 0 <= drop_prob <= 1\n",
        "    # In this case, all elements are dropped out\n",
        "    if drop_prob == 1:\n",
        "        return torch.zeros_like(X)\n",
        "    mask = torch.rand(X.shape).uniform_() > drop_prob\n",
        "    return mask.float() * X / (1.0-drop_prob)"
      ],
      "execution_count": 0,
      "outputs": []
    },
    {
      "cell_type": "code",
      "metadata": {
        "id": "2YvMdJrtx72z",
        "colab_type": "code",
        "colab": {
          "base_uri": "https://localhost:8080/",
          "height": 51
        },
        "outputId": "b233eada-a1a6-4aec-e9a4-d7806a8687f8"
      },
      "source": [
        "X = torch.arange(16).view(2,8).float()\n",
        "print(X)"
      ],
      "execution_count": 3,
      "outputs": [
        {
          "output_type": "stream",
          "text": [
            "tensor([[ 0.,  1.,  2.,  3.,  4.,  5.,  6.,  7.],\n",
            "        [ 8.,  9., 10., 11., 12., 13., 14., 15.]])\n"
          ],
          "name": "stdout"
        }
      ]
    },
    {
      "cell_type": "code",
      "metadata": {
        "id": "iTu1ZNvzx722",
        "colab_type": "code",
        "colab": {
          "base_uri": "https://localhost:8080/",
          "height": 119
        },
        "outputId": "f0e3ad72-90e0-4d42-accc-7f97b54fe5e0"
      },
      "source": [
        "print(dropout(X, 0))\n",
        "print(dropout(X, 0.5))\n",
        "print(dropout(X, 1))"
      ],
      "execution_count": 4,
      "outputs": [
        {
          "output_type": "stream",
          "text": [
            "tensor([[ 0.,  1.,  2.,  3.,  4.,  5.,  6.,  7.],\n",
            "        [ 8.,  9., 10., 11., 12., 13., 14., 15.]])\n",
            "tensor([[ 0.,  2.,  0.,  0.,  8.,  0., 12.,  0.],\n",
            "        [16., 18., 20.,  0.,  0., 26.,  0.,  0.]])\n",
            "tensor([[0., 0., 0., 0., 0., 0., 0., 0.],\n",
            "        [0., 0., 0., 0., 0., 0., 0., 0.]])\n"
          ],
          "name": "stdout"
        }
      ]
    },
    {
      "cell_type": "markdown",
      "metadata": {
        "id": "kClbySxGx724",
        "colab_type": "text"
      },
      "source": [
        "# 2. DropOut on a toy dataset"
      ]
    },
    {
      "cell_type": "code",
      "metadata": {
        "id": "p6Yxd33Xx725",
        "colab_type": "code",
        "colab": {}
      },
      "source": [
        "N_SAMPLES = 20\n",
        "N_HIDDEN = 300"
      ],
      "execution_count": 0,
      "outputs": []
    },
    {
      "cell_type": "markdown",
      "metadata": {
        "id": "BbaEOLDLx727",
        "colab_type": "text"
      },
      "source": [
        "Let's generate some training data"
      ]
    },
    {
      "cell_type": "code",
      "metadata": {
        "id": "aGacY3QHx728",
        "colab_type": "code",
        "colab": {}
      },
      "source": [
        "# training data\n",
        "x = torch.unsqueeze(torch.linspace(-1, 1, N_SAMPLES), 1)\n",
        "y = x + 0.3*torch.normal(torch.zeros(N_SAMPLES, 1), torch.ones(N_SAMPLES, 1))\n",
        "\n",
        "# test data\n",
        "test_x = torch.unsqueeze(torch.linspace(-1, 1, N_SAMPLES), 1)\n",
        "test_y = test_x + 0.3*torch.normal(torch.zeros(N_SAMPLES, 1), torch.ones(N_SAMPLES, 1))\n"
      ],
      "execution_count": 0,
      "outputs": []
    },
    {
      "cell_type": "code",
      "metadata": {
        "id": "a6O7oAzTx72-",
        "colab_type": "code",
        "colab": {
          "base_uri": "https://localhost:8080/",
          "height": 265
        },
        "outputId": "02447fc1-0c5c-49e3-efa1-bac27c162f7e"
      },
      "source": [
        "# show data\n",
        "plt.scatter(x.data.numpy(), y.data.numpy(), c='green', s=50, alpha=0.5, label='train')\n",
        "plt.scatter(test_x.data.numpy(), test_y.data.numpy(), c='orange', s=50, alpha=0.5, label='test')\n",
        "plt.legend(loc='upper left')\n",
        "plt.ylim((-2.5, 2.5))\n",
        "plt.show()"
      ],
      "execution_count": 7,
      "outputs": [
        {
          "output_type": "display_data",
          "data": {
            "image/png": "[encoded data removed]",
            "text/plain": [
              "<Figure size 432x288 with 1 Axes>"
            ]
          },
          "metadata": {
            "tags": []
          }
        }
      ]
    },
    {
      "cell_type": "markdown",
      "metadata": {
        "id": "BCkx0YJhx73D",
        "colab_type": "text"
      },
      "source": [
        "#### Exercise"
      ]
    },
    {
      "cell_type": "markdown",
      "metadata": {
        "id": "egV6cqNex73E",
        "colab_type": "text"
      },
      "source": [
        "Create a network `net_simple` as `nn.Sequential` with the following structure: `Fully Connected N_HIDDEN -> ReLU -> Fully Connected N_HIDDEN -> ReLU -> Fully Connected 1`"
      ]
    },
    {
      "cell_type": "code",
      "metadata": {
        "id": "NEA2ljVnx73F",
        "colab_type": "code",
        "colab": {}
      },
      "source": [
        "net_simple = torch.nn.Sequential(\n",
        "#     TODO\n",
        ")\n",
        "\n",
        "print(net_simple)"
      ],
      "execution_count": 0,
      "outputs": []
    },
    {
      "cell_type": "markdown",
      "metadata": {
        "id": "lyDCBZWqx73I",
        "colab_type": "text"
      },
      "source": [
        "#### Exercise\n",
        "\n",
        "Now define the same architecture with `Dropout` layers in-between with $p=0.5$. Where will you place them?"
      ]
    },
    {
      "cell_type": "code",
      "metadata": {
        "id": "PzduP4k8x73J",
        "colab_type": "code",
        "colab": {}
      },
      "source": [
        "net_dropout = torch.nn.Sequential(\n",
        "#    TODO\n",
        ")\n",
        "\n",
        "print(net_dropout)"
      ],
      "execution_count": 0,
      "outputs": []
    },
    {
      "cell_type": "code",
      "metadata": {
        "id": "txKmgBiDx73M",
        "colab_type": "code",
        "colab": {}
      },
      "source": [
        "optimizer_simple = torch.optim.Adam(net_simple.parameters(), lr=0.01)\n",
        "optimizer_dropout = torch.optim.Adam(net_dropout.parameters(), lr=0.01)\n",
        "loss_fn = torch.nn.MSELoss()"
      ],
      "execution_count": 0,
      "outputs": []
    },
    {
      "cell_type": "code",
      "metadata": {
        "id": "IttM4NmMx73P",
        "colab_type": "code",
        "colab": {}
      },
      "source": [
        "for epoch in range(500):\n",
        "    pred_simple = net_simple(x)\n",
        "    pred_drop = net_dropout(x)\n",
        "    loss_simple = loss_fn(pred_simple, y)\n",
        "    loss_dropout = loss_fn(pred_drop, y)\n",
        "\n",
        "    optimizer_simple.zero_grad()\n",
        "    optimizer_dropout.zero_grad()\n",
        "    loss_simple.backward()\n",
        "    loss_dropout.backward()\n",
        "    optimizer_simple.step()\n",
        "    optimizer_dropout.step()\n",
        "\n",
        "    if epoch % 100 == 0:\n",
        "        # change to eval mode in order to fix drop out effect\n",
        "        net_simple.eval()\n",
        "        net_dropout.eval()  # parameters for dropout differ from train mode\n",
        "\n",
        "        # plotting\n",
        "        plt.cla()\n",
        "        test_pred_simple = net_simple(test_x)\n",
        "        test_pred_dropout = net_dropout(test_x)\n",
        "        plt.scatter(x.data.numpy(), y.data.numpy(), c='green', s=50, alpha=0.3, label='train')\n",
        "        plt.scatter(test_x.data.numpy(), test_y.data.numpy(), c='orange', s=50, alpha=0.3, label='test')\n",
        "        plt.plot(test_x.data.numpy(), test_pred_simple.data.numpy(), 'r-', lw=3, label='overfitting')\n",
        "        plt.plot(test_x.data.numpy(), test_pred_dropout.data.numpy(), 'b--', lw=3, label='dropout(50%)')\n",
        "        plt.text(0, -1.2, 'overfitting test loss=%.4f' % loss_fn(test_pred_simple, test_y).data.item(), fontdict={'size': 16, 'color':  'red'})\n",
        "        plt.text(0, -1.5, 'dropout test loss=%.4f' % loss_fn(test_pred_dropout, test_y).data.item(), fontdict={'size': 16, 'color': 'blue'})\n",
        "        plt.legend(loc='upper left'); plt.ylim((-2.5, 2.5));plt.pause(0.1)\n",
        "\n",
        "        # change back to train mode\n",
        "        net_simple.train()\n",
        "        net_dropout.train()\n",
        "        plt.show()"
      ],
      "execution_count": 0,
      "outputs": []
    },
    {
      "cell_type": "code",
      "metadata": {
        "id": "Vc8m9b9ox73Q",
        "colab_type": "code",
        "colab": {}
      },
      "source": [
        ""
      ],
      "execution_count": 0,
      "outputs": []
    }
  ]
}